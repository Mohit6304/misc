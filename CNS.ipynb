{
  "nbformat": 4,
  "nbformat_minor": 0,
  "metadata": {
    "colab": {
      "provenance": []
    },
    "kernelspec": {
      "name": "python3",
      "display_name": "Python 3"
    },
    "language_info": {
      "name": "python"
    }
  },
  "cells": [
    {
      "cell_type": "markdown",
      "source": [
        "# Miller Rabin, Chinese remaindering theorem, Modular exponentiation, Euler totient.  "
      ],
      "metadata": {
        "id": "pusXDWf5etP0"
      }
    },
    {
      "cell_type": "code",
      "execution_count": 1,
      "metadata": {
        "colab": {
          "base_uri": "https://localhost:8080/"
        },
        "id": "XFp7W3y5epES",
        "outputId": "5fbf567e-ad3c-4ccf-b710-9f7e6b8de854"
      },
      "outputs": [
        {
          "output_type": "stream",
          "name": "stdout",
          "text": [
            "False\n",
            "True\n"
          ]
        }
      ],
      "source": [
        "#Miller Rabin\n",
        "import random\n",
        "def miller_rabin(n, k=5):\n",
        "    if n < 2:\n",
        "        return False\n",
        "    for _ in range(k):\n",
        "        a = random.randint(2, n - 2)\n",
        "        x = pow(a, n - 1, n)\n",
        "        if x == 1 or x == n - 1:\n",
        "            continue\n",
        "        for _ in range(k - 1):\n",
        "            x = pow(x, 2, n)\n",
        "            if x == n - 1:\n",
        "                break\n",
        "        else:\n",
        "            return False\n",
        "    return True\n",
        "print(miller_rabin(4,k=5))\n",
        "print(miller_rabin(7,k=5))"
      ]
    },
    {
      "cell_type": "code",
      "source": [
        "#Chinese Remainder\n",
        "def chinese_remainder(n, a):\n",
        "    sum = 0\n",
        "    prod = 1\n",
        "    for i in n:\n",
        "        prod *= i\n",
        "    for i, j in zip(n, a):\n",
        "        p = prod // i\n",
        "        sum += j * mul_inv(p, i) * p\n",
        "    return sum % prod\n",
        "\n",
        "def mul_inv(a, b):\n",
        "    b0 = b\n",
        "    x0, x1 = 0, 1\n",
        "    if b == 1:\n",
        "        return 1\n",
        "    while a > 1:\n",
        "        q = a // b\n",
        "        a, b = b, a%b\n",
        "        x0, x1 = x1 - q * x0, x0\n",
        "    if x1 < 0:\n",
        "        x1 += b0\n",
        "    return x1\n",
        "print(chinese_remainder([3, 4, 5], [2, 3, 1]))"
      ],
      "metadata": {
        "colab": {
          "base_uri": "https://localhost:8080/"
        },
        "id": "aSghl9oTfRwE",
        "outputId": "77d9cdb8-a30d-47a6-e5bf-d6ed8f256033"
      },
      "execution_count": 2,
      "outputs": [
        {
          "output_type": "stream",
          "name": "stdout",
          "text": [
            "11\n"
          ]
        }
      ]
    },
    {
      "cell_type": "code",
      "source": [
        "#Modular Exponentiation\n",
        "def mod_exp(base, exponent, modulus):\n",
        "    result = 1\n",
        "    while exponent > 0:\n",
        "        if exponent % 2 == 1:\n",
        "            result = (result * base) % modulus\n",
        "        exponent = exponent >> 1\n",
        "        base = (base * base) % modulus\n",
        "    return result\n",
        "print(mod_exp(52,713,41))"
      ],
      "metadata": {
        "colab": {
          "base_uri": "https://localhost:8080/"
        },
        "id": "MJQEh2qMfWdo",
        "outputId": "b58e4ae6-7185-4df9-88db-283f3e1f386e"
      },
      "execution_count": 3,
      "outputs": [
        {
          "output_type": "stream",
          "name": "stdout",
          "text": [
            "34\n"
          ]
        }
      ]
    },
    {
      "cell_type": "code",
      "source": [
        "#Euler's Totient Function\n",
        "def euler_totient(n):\n",
        "    result = n\n",
        "    p = 2\n",
        "    while p * p <= n:\n",
        "        if n % p == 0:\n",
        "            while n % p == 0:\n",
        "                n //= p\n",
        "            result -= result // p\n",
        "        p += 1\n",
        "    if n > 1:\n",
        "        result -= result // n\n",
        "    return result\n",
        "print(euler_totient(7))"
      ],
      "metadata": {
        "colab": {
          "base_uri": "https://localhost:8080/"
        },
        "id": "ieclD2yPffhV",
        "outputId": "aa1b91cf-9078-4e65-cc81-41799ac1d80e"
      },
      "execution_count": 4,
      "outputs": [
        {
          "output_type": "stream",
          "name": "stdout",
          "text": [
            "6\n"
          ]
        }
      ]
    },
    {
      "cell_type": "markdown",
      "source": [
        "# DES, triple DES encryption algorithms.  "
      ],
      "metadata": {
        "id": "LpUozlBigv8Y"
      }
    },
    {
      "source": [
        "!pip install pycryptodome"
      ],
      "cell_type": "code",
      "metadata": {
        "colab": {
          "base_uri": "https://localhost:8080/"
        },
        "id": "NeV_ywmfhYtt",
        "outputId": "10f9ce15-d791-4f93-bfa2-f5ad5cf039a8"
      },
      "execution_count": 12,
      "outputs": [
        {
          "output_type": "stream",
          "name": "stdout",
          "text": [
            "Collecting pycryptodome\n",
            "  Downloading pycryptodome-3.21.0-cp36-abi3-manylinux_2_17_x86_64.manylinux2014_x86_64.whl.metadata (3.4 kB)\n",
            "Downloading pycryptodome-3.21.0-cp36-abi3-manylinux_2_17_x86_64.manylinux2014_x86_64.whl (2.3 MB)\n",
            "\u001b[2K   \u001b[90m━━━━━━━━━━━━━━━━━━━━━━━━━━━━━━━━━━━━━━━━\u001b[0m \u001b[32m2.3/2.3 MB\u001b[0m \u001b[31m23.5 MB/s\u001b[0m eta \u001b[36m0:00:00\u001b[0m\n",
            "\u001b[?25hInstalling collected packages: pycryptodome\n",
            "Successfully installed pycryptodome-3.21.0\n"
          ]
        }
      ]
    },
    {
      "cell_type": "code",
      "source": [
        "# DES encryption algorithms.\n",
        "from Crypto.Cipher import DES\n",
        "from Crypto.Util.Padding import pad, unpad\n",
        "from Crypto.Random import get_random_bytes\n",
        "\n",
        "# DES Encryption and Decryption\n",
        "def des_encrypt_decrypt():\n",
        "    print(\"\\n--- DES Encryption and Decryption ---\")\n",
        "\n",
        "    # Key must be 8 bytes for DES\n",
        "    des_key = get_random_bytes(8)\n",
        "    print(f\"DES Key: {des_key.hex()}\")\n",
        "\n",
        "    # Create DES cipher object\n",
        "    des_cipher = DES.new(des_key, DES.MODE_ECB)\n",
        "\n",
        "    # Example plaintext\n",
        "    plaintext = b\"HelloWorld\"  # Must be a multiple of 8 bytes when padded\n",
        "    print(f\"Original Plaintext: {plaintext}\")\n",
        "\n",
        "    # Encrypt the plaintext (pad it to be a multiple of block size)\n",
        "    padded_plaintext = pad(plaintext, DES.block_size)\n",
        "    ciphertext = des_cipher.encrypt(padded_plaintext)\n",
        "    print(f\"Ciphertext (Hex): {ciphertext.hex()}\")\n",
        "\n",
        "    # Decrypt the ciphertext\n",
        "    decrypted_padded_text = des_cipher.decrypt(ciphertext)\n",
        "    decrypted_text = unpad(decrypted_padded_text, DES.block_size)\n",
        "    print(f\"Decrypted Plaintext: {decrypted_text.decode()}\")\n",
        "\n",
        "\n",
        "# Run the DES encryption and decryption\n",
        "des_encrypt_decrypt()\n"
      ],
      "metadata": {
        "colab": {
          "base_uri": "https://localhost:8080/"
        },
        "id": "2uVsdG4offt6",
        "outputId": "124673d4-4bd0-4b71-d547-ec2272d8b304"
      },
      "execution_count": 13,
      "outputs": [
        {
          "output_type": "stream",
          "name": "stdout",
          "text": [
            "\n",
            "--- DES Encryption and Decryption ---\n",
            "DES Key: 0fabc9ef94680fe1\n",
            "Original Plaintext: b'HelloWorld'\n",
            "Ciphertext (Hex): 505d606b8c547dce24f9e990622d0f7c\n",
            "Decrypted Plaintext: HelloWorld\n"
          ]
        }
      ]
    },
    {
      "cell_type": "code",
      "source": [
        "# Triple DES encryption algorithms.\n",
        "from Crypto.Cipher import DES3\n",
        "from Crypto.Util.Padding import pad, unpad\n",
        "from Crypto.Random import get_random_bytes\n",
        "\n",
        "# Triple DES Encryption and Decryption\n",
        "def triple_des_encrypt_decrypt():\n",
        "    print(\"\\n--- Triple DES Encryption and Decryption ---\")\n",
        "\n",
        "    # Key must be either 16 or 24 bytes for 3DES\n",
        "    triple_des_key = DES3.adjust_key_parity(get_random_bytes(24))\n",
        "    print(f\"Triple DES Key: {triple_des_key.hex()}\")\n",
        "\n",
        "    # Create Triple DES cipher object\n",
        "    triple_des_cipher = DES3.new(triple_des_key, DES3.MODE_ECB)\n",
        "\n",
        "    # Example plaintext\n",
        "    plaintext = b\"HelloWorld\"  # Must be a multiple of 8 bytes when padded\n",
        "    print(f\"Original Plaintext: {plaintext}\")\n",
        "\n",
        "    # Encrypt the plaintext (pad it to be a multiple of block size)\n",
        "    padded_plaintext = pad(plaintext, DES3.block_size)\n",
        "    ciphertext = triple_des_cipher.encrypt(padded_plaintext)\n",
        "    print(f\"Ciphertext (Hex): {ciphertext.hex()}\")\n",
        "\n",
        "    # Decrypt the ciphertext\n",
        "    decrypted_padded_text = triple_des_cipher.decrypt(ciphertext)\n",
        "    decrypted_text = unpad(decrypted_padded_text, DES3.block_size)\n",
        "    print(f\"Decrypted Plaintext: {decrypted_text.decode()}\")\n",
        "\n",
        "\n",
        "# Run the Triple DES encryption and decryption\n",
        "triple_des_encrypt_decrypt()\n"
      ],
      "metadata": {
        "colab": {
          "base_uri": "https://localhost:8080/"
        },
        "id": "yK1cXWFYffwz",
        "outputId": "1507fb21-74b2-4da9-bec6-c4d000c8dc3f"
      },
      "execution_count": 15,
      "outputs": [
        {
          "output_type": "stream",
          "name": "stdout",
          "text": [
            "\n",
            "--- Triple DES Encryption and Decryption ---\n",
            "Triple DES Key: cd4570fd0dada8857551299137e667640e2f0b4086f8a1f4\n",
            "Original Plaintext: b'HelloWorld'\n",
            "Ciphertext (Hex): 74c30ebde71ebd5dc28280d33a77f00d\n",
            "Decrypted Plaintext: HelloWorld\n"
          ]
        }
      ]
    },
    {
      "cell_type": "markdown",
      "source": [
        "# RSA Algorithm"
      ],
      "metadata": {
        "id": "3FqJNbOsiF6f"
      }
    },
    {
      "cell_type": "code",
      "source": [
        "import random\n",
        "from sympy import mod_inverse\n",
        "# Function to generate large prime numbers\n",
        "def generate_prime():\n",
        "    primes = [i for i in range(100, 300) if all(i % j != 0 for j in range(2, int(i**0.5) + 1))]\n",
        "    return random.choice(primes)\n",
        "\n",
        "# Function to calculate gcd\n",
        "def gcd(a, b):\n",
        "    while b != 0:\n",
        "        a, b = b, a % b\n",
        "    return a\n",
        "\n",
        "# Function to generate RSA keys (public and private)\n",
        "def generate_rsa_keys():\n",
        "    # Step 1: Generate two large prime numbers\n",
        "    p = generate_prime()\n",
        "    q = generate_prime()\n",
        "\n",
        "    # Step 2: Compute n = p * q\n",
        "    n = p * q\n",
        "\n",
        "    # Step 3: Compute φ(n) = (p-1)*(q-1)\n",
        "    phi_n = (p - 1) * (q - 1)\n",
        "\n",
        "    # Step 4: Choose an integer e such that 1 < e < φ(n) and gcd(e, φ(n)) = 1\n",
        "    e = random.choice([i for i in range(2, phi_n) if gcd(i, phi_n) == 1])\n",
        "\n",
        "    # Step 5: Compute d, the modular multiplicative inverse of e modulo φ(n)\n",
        "    d = mod_inverse(e, phi_n)\n",
        "\n",
        "    # Public key: (e, n), Private key: (d, n)\n",
        "    return (e, n), (d, n)\n",
        "\n",
        "# Function to encrypt a message using RSA\n",
        "def encrypt_rsa(message, public_key):\n",
        "    e, n = public_key\n",
        "    # Convert message to a list of integers and encrypt each character\n",
        "    return [pow(ord(char), e, n) for char in message]\n",
        "\n",
        "# Function to decrypt a message using RSA\n",
        "def decrypt_rsa(ciphertext, private_key):\n",
        "    d, n = private_key\n",
        "    # Decrypt each integer in the ciphertext\n",
        "    return ''.join([chr(pow(char, d, n)) for char in ciphertext])\n",
        "\n",
        "# Example usage\n",
        "message = \"HELLO\"\n",
        "public_key, private_key = generate_rsa_keys()\n",
        "\n",
        "encrypted_message = encrypt_rsa(message, public_key)\n",
        "\n",
        "decrypted_message = decrypt_rsa(encrypted_message, private_key)\n",
        "\n",
        "print(\"Public Key:\", public_key)\n",
        "print(\"Private Key:\", private_key)\n",
        "print(\"Original Message:\", message)\n",
        "print(\"Encrypted Message:\", encrypted_message)\n",
        "print(\"Decrypted Message:\", decrypted_message)"
      ],
      "metadata": {
        "colab": {
          "base_uri": "https://localhost:8080/"
        },
        "id": "WtO3Siq4ff2a",
        "outputId": "472107dd-a2b7-4a02-a491-a0bcb3b54f82"
      },
      "execution_count": 17,
      "outputs": [
        {
          "output_type": "stream",
          "name": "stdout",
          "text": [
            "Public Key: (5027, 61771)\n",
            "Private Key: (54227, 61771)\n",
            "Original Message: HELLO\n",
            "Encrypted Message: [32546, 13704, 33487, 33487, 15025]\n",
            "Decrypted Message: HELLO\n"
          ]
        }
      ]
    },
    {
      "cell_type": "markdown",
      "source": [
        "# Diffie Hellman Key Exchange Algorithm"
      ],
      "metadata": {
        "id": "aZgEBH-0ijq_"
      }
    },
    {
      "cell_type": "code",
      "source": [
        "import random\n",
        "def generate_private_key(p):\n",
        "    \"\"\"Generate a private key in the range [1, p-1].\"\"\"\n",
        "    return random.randint(1, p-1)\n",
        "def compute_public_key(private_key, g, p):\n",
        "    \"\"\"Compute the public key using the formula (g^private_key) % p.\"\"\"\n",
        "    return pow(g, private_key, p)\n",
        "def compute_shared_secret(public_key, private_key, p):\n",
        "    \"\"\"Compute the shared secret using the formula (public_key^private_key) % p.\"\"\"\n",
        "    return pow(public_key, private_key, p)\n",
        "# Example usage\n",
        "if __name__ == \"__main__\":\n",
        "    # Both parties agree on a large prime number p and a base g\n",
        "    p = 23  # Example prime number (should be much larger in real scenarios)\n",
        "    g = 5   # Example base (primitive root modulo p)\n",
        "\n",
        "    # Party A generates a private key and computes the public key\n",
        "    private_key_a = generate_private_key(p)\n",
        "    public_key_a = compute_public_key(private_key_a, g, p)\n",
        "    print(f\"Party A's private key: {private_key_a}\")\n",
        "    print(f\"Party A's public key: {public_key_a}\")\n",
        "    # Party B generates a private key and computes the public key\n",
        "    private_key_b = generate_private_key(p)\n",
        "    public_key_b = compute_public_key(private_key_b, g, p)\n",
        "    print(f\"Party B's private key: {private_key_b}\")\n",
        "    print(f\"Party B's public key: {public_key_b}\")\n",
        "\n",
        "    # Both parties exchange their public keys and compute the shared secret\n",
        "    shared_secret_a = compute_shared_secret(public_key_b, private_key_a, p)\n",
        "    shared_secret_b = compute_shared_secret(public_key_a, private_key_b, p)\n",
        "    print(f\"Shared secret computed by Party A: {shared_secret_a}\")\n",
        "    print(f\"Shared secret computed by Party B: {shared_secret_b}\")\n",
        "\n",
        "    # The shared secret should be the same for both parties\n",
        "    assert shared_secret_a == shared_secret_b, \"Shared secrets do not match!\"\n",
        "    print(\"Shared secrets match!\")"
      ],
      "metadata": {
        "colab": {
          "base_uri": "https://localhost:8080/"
        },
        "id": "nqF-u0i4ff43",
        "outputId": "09f2f0fa-1a1d-4590-92a4-00e0fe541d97"
      },
      "execution_count": 18,
      "outputs": [
        {
          "output_type": "stream",
          "name": "stdout",
          "text": [
            "Party A's private key: 3\n",
            "Party A's public key: 10\n",
            "Party B's private key: 14\n",
            "Party B's public key: 13\n",
            "Shared secret computed by Party A: 12\n",
            "Shared secret computed by Party B: 12\n",
            "Shared secrets match!\n"
          ]
        }
      ]
    },
    {
      "cell_type": "markdown",
      "source": [
        "# SHA-512 Algorithm"
      ],
      "metadata": {
        "id": "SZ78s0F6ivqT"
      }
    },
    {
      "cell_type": "markdown",
      "source": [
        "(a)Using library"
      ],
      "metadata": {
        "id": "LRefkEK8i0_J"
      }
    },
    {
      "cell_type": "code",
      "source": [
        "import hashlib\n",
        "def sha512_hash(message):\n",
        "    # Create a new SHA-512 hash object\n",
        "    sha512 = hashlib.sha512()\n",
        "    # Update the hash object with the bytes-like object (message)\n",
        "    sha512.update(message)\n",
        "\n",
        "    # Return the hexadecimal representation of the digest\n",
        "    return sha512.hexdigest()\n",
        "# Example usage\n",
        "message = b\"hello world\"\n",
        "hash_value = sha512_hash(message)\n",
        "print(f\"SHA-512 hash: {hash_value}\")"
      ],
      "metadata": {
        "colab": {
          "base_uri": "https://localhost:8080/"
        },
        "id": "-AU8kCJDff7c",
        "outputId": "43b73ec8-52af-42e6-c3ea-290f2c979a23"
      },
      "execution_count": 19,
      "outputs": [
        {
          "output_type": "stream",
          "name": "stdout",
          "text": [
            "SHA-512 hash: 309ecc489c12d6eb4cc40f50c902f2b4d0ed77ee511a7c7a9bcd3ca86d4cd86f989dd35bc5ff499670da34255b45b0cfd830e81f605dcf7dc5542e93ae9cd76f\n"
          ]
        }
      ]
    },
    {
      "cell_type": "markdown",
      "source": [
        "(b)Without Using library"
      ],
      "metadata": {
        "id": "9sFaJvNai9y6"
      }
    },
    {
      "cell_type": "code",
      "source": [
        "import struct\n",
        "# Initial hash values for SHA-512\n",
        "H = [\n",
        "    0x6a09e667f3bcc908, 0xbb67ae8584caa73b,\n",
        "    0x3c6ef372fe94f82b, 0xa54ff53a5f1d36f1,\n",
        "    0x510e527fade682d1, 0x9b05688c2b3e6c1f,\n",
        "    0x1f83d9abfb41bd6b, 0x5be0cd19137e2179\n",
        "]\n",
        "# Round constants for SHA-512\n",
        "K = [\n",
        "    0x428a2f98d728ae22, 0x7137449123ef65cd, 0xb5c0fbcfec4d3b2f, 0xe9b5dba58189dbbc,\n",
        "    0x3956c25bf348b538, 0x59f111f1b605d019, 0x923f82a4af194f9b, 0xab1c5ed5da6d8118,\n",
        "    0xd807aa98a3030242, 0x12835b0145706fbe, 0x243185be4ee4b28c, 0x550c7dc3d5ffb4e2,\n",
        "    0x72be5d74f27b896f, 0x80deb1fe3b1696b1, 0x9bdc06a725c71235, 0xc19bf174cf692694,\n",
        "    0xe49b69c19ef14ad2, 0xefbe4786384f25e3, 0x0fc19dc68b8cd5b5, 0x240ca1cc77ac9c65,\n",
        "    0x2de92c6f592b0275, 0x4a7484aa6ea6e483, 0x5cb0a9dcbd41fbd4, 0x76f988da831153b5,\n",
        "    0x983e5152ee66dfab, 0xa831c66d2db43210, 0xb00327c898fb213f, 0xbf597fc7beef0ee4,\n",
        "    0xc6e00bf33da88fc2, 0xd5a79147930aa725, 0x06ca6351e003826f, 0x142929670a0e6e70,\n",
        "    0x27b70a8546d22ffc, 0x2e1b21385c26c926, 0x4d2c6dfc5ac42aed, 0x53380d139d95b3df,\n",
        "    0x650a73548baf63de, 0x766a0abb3c77b2a8, 0x81c2c92e47edaee6, 0x92722c851482353b,\n",
        "    0xa2bfe8a14cf10364, 0xa81a664bbc423001, 0xc24b8b70d0f89791, 0xc76c51a30654be30,\n",
        "    0xd192e819d6ef5218, 0xd69906245565a910, 0xf40e35855771202a, 0x106aa07032bbd1b8,\n",
        "    0x19a4c116b8d2d0c8, 0x1e376c085141ab53, 0x2748774cdf8eeb99, 0x34b0bcb5e19b48a8,\n",
        "    0x391c0cb3c5c95a63, 0x4ed8aa4ae3418acb, 0x5b9cca4f7763e373, 0x682e6ff3d6b2b8a3,\n",
        "    0x748f82ee5defb2fc, 0x78a5636f43172f60, 0x84c87814a1f0ab72, 0x8cc702081a6439ec,\n",
        "    0x90befffa23631e28, 0xa4506cebde82bde9, 0xbef9a3f7b2c67915, 0xc67178f2e372532b,\n",
        "    0xca273eceea26619c, 0xd186b8c721c0c207, 0xeada7dd6cde0eb1e, 0xf57d4f7fee6ed178,\n",
        "    0x06f067aa72176fba, 0x0a637dc5a2c898a6, 0x113f9804bef90dae, 0x1b710b35131c471b,\n",
        "    0x28db77f523047d84, 0x32caab7b40c72493, 0x3c9ebe0a15c9bebc, 0x431d67c49c100d4c,\n",
        "    0x4cc5d4becb3e42b6, 0x597f299cfc657e2a, 0x5fcb6fab3ad6faec, 0x6c44198c4a475817\n",
        "]\n",
        "\n",
        "# Right rotate function for 64-bit values\n",
        "def right_rotate(value, shift):\n",
        "    return (value >> shift) | (value << (64 - shift)) & 0xFFFFFFFFFFFFFFFF\n",
        "\n",
        "# SHA-512 padding function\n",
        "def sha512_padding(message):\n",
        "    message = bytearray(message)\n",
        "    message_length = len(message) * 8\n",
        "    message.append(0x80)\n",
        "    while (len(message) * 8 + 128) % 1024 != 0:\n",
        "        message.append(0)\n",
        "    message += struct.pack('>Q', 0)  # High 64 bits of the length (always 0 here)\n",
        "    message += struct.pack('>Q', message_length)  # Low 64 bits of the length\n",
        "    return message\n",
        "\n",
        "# SHA-512 process chunk function\n",
        "def sha512_process_chunk(chunk, H):\n",
        "    w = [0] * 80\n",
        "    for i in range(16):\n",
        "        w[i] = struct.unpack('>Q', chunk[i * 8:i * 8 + 8])[0]\n",
        "    for i in range(16, 80):\n",
        "        s0 = right_rotate(w[i-15], 1) ^ right_rotate(w[i-15], 8) ^ (w[i-15] >> 7)\n",
        "        s1 = right_rotate(w[i-2], 19) ^ right_rotate(w[i-2], 61) ^ (w[i-2] >> 6)\n",
        "        w[i] = (w[i-16] + s0 + w[i-7] + s1) & 0xFFFFFFFFFFFFFFFF\n",
        "\n",
        "    a, b, c, d, e, f, g, h = H\n",
        "    for i in range(80):\n",
        "        s1 = right_rotate(e, 14) ^ right_rotate(e, 18) ^ right_rotate(e, 41)\n",
        "        ch = (e & f) ^ (~e & g)\n",
        "        temp1 = (h + s1 + ch + K[i] + w[i]) & 0xFFFFFFFFFFFFFFFF\n",
        "        s0 = right_rotate(a, 28) ^ right_rotate(a, 34) ^ right_rotate(a, 39)\n",
        "        maj = (a & b) ^ (a & c) ^ (b & c)\n",
        "        temp2 = (s0 + maj) & 0xFFFFFFFFFFFFFFFF\n",
        "        h = g\n",
        "        g = f\n",
        "        f = e\n",
        "        e = (d + temp1) & 0xFFFFFFFFFFFFFFFF\n",
        "        d = c\n",
        "        c = b\n",
        "        b = a\n",
        "        a = (temp1 + temp2) & 0xFFFFFFFFFFFFFFFF\n",
        "    H[0] = (H[0] + a) & 0xFFFFFFFFFFFFFFFF\n",
        "    H[1] = (H[1] + b) & 0xFFFFFFFFFFFFFFFF\n",
        "    H[2] = (H[2] + c) & 0xFFFFFFFFFFFFFFFF\n",
        "    H[3] = (H[3] + d) & 0xFFFFFFFFFFFFFFFF\n",
        "    H[4] = (H[4] + e) & 0xFFFFFFFFFFFFFFFF\n",
        "    H[5] = (H[5] + f) & 0xFFFFFFFFFFFFFFFF\n",
        "    H[6] = (H[6] + g) & 0xFFFFFFFFFFFFFFFF\n",
        "    H[7] = (H[7] + h) & 0xFFFFFFFFFFFFFFFF\n",
        "\n",
        "# SHA-512 main function\n",
        "def sha512(message):\n",
        "    message = sha512_padding(message)\n",
        "    H_copy = H[:]\n",
        "    for i in range(0, len(message), 128):\n",
        "        sha512_process_chunk(message[i:i + 128], H_copy)\n",
        "    return ''.join('{:016x}'.format(h) for h in H_copy)\n",
        "\n",
        "# Example usage\n",
        "message = b\"hello world\"\n",
        "hash_value = sha512(message)\n",
        "print(f\"SHA-512 hash: {hash_value}\")"
      ],
      "metadata": {
        "colab": {
          "base_uri": "https://localhost:8080/"
        },
        "id": "3T0PCUu1ff-L",
        "outputId": "8208c894-b944-44a1-ecfc-b1194647826c"
      },
      "execution_count": 20,
      "outputs": [
        {
          "output_type": "stream",
          "name": "stdout",
          "text": [
            "SHA-512 hash: 309ecc489c12d6eb4cc40f50c902f2b4d0ed77ee511a7c7a9bcd3ca86d4cd86f989dd35bc5ff499670da34255b45b0cfd830e81f605dcf7dc5542e93ae9cd76f\n"
          ]
        }
      ]
    },
    {
      "cell_type": "markdown",
      "source": [
        "(c)Application of SHA-512 for secure passwords storage"
      ],
      "metadata": {
        "id": "CbR2bSuVjIUA"
      }
    },
    {
      "cell_type": "code",
      "source": [
        "import hashlib\n",
        "import os\n",
        "\n",
        "def hash_password(password):\n",
        "    \"\"\"Hash a password for storing.\"\"\"\n",
        "    # Generate a random salt\n",
        "    salt = os.urandom(16)\n",
        "\n",
        "    # Create a new SHA-512 hash object\n",
        "    sha512 = hashlib.sha512()\n",
        "\n",
        "    # Update the hash object with the salt and the password\n",
        "    sha512.update(salt + password.encode())\n",
        "\n",
        "    # Return the salt and the hexadecimal representation of the digest\n",
        "    return salt, sha512.hexdigest()\n",
        "\n",
        "def verify_password(stored_salt, stored_hash, password):\n",
        "    \"\"\"Verify a stored password against one provided by the user.\"\"\"\n",
        "    # Create a new SHA-512 hash object\n",
        "    sha512 = hashlib.sha512()\n",
        "\n",
        "    # Update the hash object with the stored salt and the provided password\n",
        "    sha512.update(stored_salt + password.encode())\n",
        "\n",
        "    # Compare the stored hash with the new hash\n",
        "    return sha512.hexdigest() == stored_hash\n",
        "\n",
        "# Example usage\n",
        "def main():\n",
        "    # Simulate user registration\n",
        "    password = input(\"Register a new password: \")\n",
        "    salt, hashed_password = hash_password(password)\n",
        "\n",
        "    # Print the stored salt and hashed password\n",
        "    print(f\"Salt: {salt.hex()}\")\n",
        "    print(f\"Hashed Password: {hashed_password}\")\n",
        "\n",
        "    # Simulate user login\n",
        "    password_attempt = input(\"Enter password to login: \")\n",
        "    if verify_password(salt, hashed_password, password_attempt):\n",
        "        print(\"Password is correct.\")\n",
        "    else:\n",
        "        print(\"Password is incorrect.\")\n",
        "\n",
        "if __name__ == \"__main__\":\n",
        "    main()"
      ],
      "metadata": {
        "colab": {
          "base_uri": "https://localhost:8080/"
        },
        "id": "fbDUURVUfgAn",
        "outputId": "cadf0f72-7bdd-42e3-8b59-613e4614a71b"
      },
      "execution_count": 21,
      "outputs": [
        {
          "output_type": "stream",
          "name": "stdout",
          "text": [
            "Register a new password: mohit\n",
            "Salt: 449b2a499b602c647126c7df4ad97706\n",
            "Hashed Password: 3a596c4438ea486f6eb7f92d39a6376c2585e41a2ea1d2f067fd8ea9a63bb0c1b31881b55d7a5b92f3c0d40f6f1dfeac0dce48d78054bcebfe2b4820219a5b53\n",
            "Enter password to login: mohit\n",
            "Password is correct.\n"
          ]
        }
      ]
    },
    {
      "cell_type": "markdown",
      "source": [
        "# HMAC Algorithm"
      ],
      "metadata": {
        "id": "9JIn6_YRjS8X"
      }
    },
    {
      "cell_type": "code",
      "source": [
        "import hmac\n",
        "import hashlib\n",
        "# Secret key and message to hash\n",
        "key = b'supersecretkey'\n",
        "message = b'This is a secure message'\n",
        "# Create the HMAC using SHA-256\n",
        "hmac_result = hmac.new(key, message, hashlib.sha256)\n",
        "# Print the HMAC in hexadecimal format\n",
        "print(\"HMAC:\", hmac_result.hexdigest())"
      ],
      "metadata": {
        "colab": {
          "base_uri": "https://localhost:8080/"
        },
        "id": "JDJC-9TdfgD5",
        "outputId": "ead5b1f6-df24-4ab5-e17f-854ed6d2c597"
      },
      "execution_count": 22,
      "outputs": [
        {
          "output_type": "stream",
          "name": "stdout",
          "text": [
            "HMAC: 74db0c7e3d3c2850541fe303c1627ee09dbc4466853945f769a7032f3c8e6c03\n"
          ]
        }
      ]
    },
    {
      "cell_type": "markdown",
      "source": [
        "# CMAC Algorithm"
      ],
      "metadata": {
        "id": "s4EdD0ORjZ61"
      }
    },
    {
      "cell_type": "code",
      "source": [
        "from Crypto.Hash import CMAC\n",
        "from Crypto.Cipher import AES\n",
        "# Secret key (must be 16, 24, or 32 bytes for AES)\n",
        "key = b'sixteen_byte_key'\n",
        "# Message to authenticate\n",
        "message = b'This is a secure message'\n",
        "# Create CMAC object using AES\n",
        "cmac_obj = CMAC.new(key, ciphermod=AES)\n",
        "cmac_obj.update(message)\n",
        "\n",
        "# Generate the CMAC\n",
        "cmac_result = cmac_obj.hexdigest()\n",
        "print(\"CMAC:\", cmac_result)"
      ],
      "metadata": {
        "colab": {
          "base_uri": "https://localhost:8080/"
        },
        "id": "Xv6rimRojcgX",
        "outputId": "b9e0c97f-00cc-4e50-d33d-93937005e2cf"
      },
      "execution_count": 23,
      "outputs": [
        {
          "output_type": "stream",
          "name": "stdout",
          "text": [
            "CMAC: 44e372a92fac40b28bd2815635ff5861\n"
          ]
        }
      ]
    }
  ]
}